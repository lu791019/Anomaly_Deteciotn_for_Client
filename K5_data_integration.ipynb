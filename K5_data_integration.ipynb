{
 "cells": [
  {
   "cell_type": "code",
   "execution_count": 1,
   "metadata": {},
   "outputs": [],
   "source": [
    "import pandas as pd\n",
    "import numpy as np\n",
    "import statsmodels.api as sm\n",
    "import itertools\n",
    "# ----設定繪圖-------\n",
    "import matplotlib.pyplot as plt\n",
    "plt.rcParams['font.sans-serif'] = ['Microsoft Dexter'] \n",
    "plt.rcParams['axes.unicode_minus'] = False  \n",
    "from matplotlib.font_manager import FontProperties \n",
    "import seaborn as sns \n",
    "myfont=FontProperties(fname='Microsoft JhengHei',size=14) \n",
    "sns.set(font=myfont.get_family()) \n",
    "sns.set_style(\"darkgrid\",{\"font.sans-serif\":['Microsoft Dexter']}) \n",
    "pd.set_option('display.max_columns', None)\n",
    "pd.set_option('display.max_rows', None)\n",
    "pd.options.display.max_seq_items = None\n",
    "#------時間------\n",
    "from datetime import datetime,timedelta\n",
    "from datetime import datetime as dt\n",
    "import time"
   ]
  },
  {
   "cell_type": "code",
   "execution_count": 2,
   "metadata": {},
   "outputs": [],
   "source": [
    "df_head = pd.read_csv('D:/karma5.0/0121/head.csv')\n",
    "df = pd.read_csv('D:/karma5.0/0212/K5datasetsOneM.csv',names=df_head.columns.tolist())"
   ]
  },
  {
   "cell_type": "code",
   "execution_count": 3,
   "metadata": {},
   "outputs": [],
   "source": [
    "dff_all = df[['DDwFD', 'contractsn', 'DATE', 'DuringMBA', 'RH', 'AH', 're', 'fbCNT',\n",
    "       'nCR', 'nMR', 'nTR', 'nconcompla', 'nconcompli', 'nmatcompla',\n",
    "       'nmatcompli', 'nteccompla', 'accLIKE', 'proLIKE', 'accDLIKE',\n",
    "       'proDLIKE', 'FavorCNT', 'BlockCNT', 'AddFavorCNT', 'AddBlockCNT',\n",
    "       'star', 'isIntCNT', 'LVdiffCNT', 'MGMLead', 'MGMRes', 'MGMDemo',\n",
    "       'MGMDeal', 'conUUCCNT', 'conSOUCNT', 'conSERCNT', 'conTWBCNT',\n",
    "       'conOTHCNT', 'conLigCNT', 'conMedCNT', 'conTanCNT', 'conDarCNT',\n",
    "       'conEx01CNT', 'conEx03CNT', 'conEx12CNT', 'conEx24CNT', 'conage30CNT',\n",
    "       'conage40CNT', 'conage50CNT', 'conage60CNT', 'conage61CNT', 'conMCNT',\n",
    "       'conFCNT', 'helpCNT', 'helpCNTmax', 'help3mCNT', 'help3mCNTmax',\n",
    "       'helpITCNT', 'helpITCNTmax', 'helpIT3mCNT', 'helpIT3mCNTmax',\n",
    "       'helpIiCNT', 'helpIiCNTmax', 'helpIi3mCNT', 'helpIi3mCNTmax',\n",
    "       'helpMaCNT', 'helpMaCNTmax', 'helpMa3mCNT', 'helpMa3mCNTmax',\n",
    "       'helpTeCNT', 'helpTeCNTmax', 'helpTe3mCNT', 'helpTe3mCNTmax',\n",
    "       'helpconCNT', 'helpconCNTmax', 'helpcon3mCNT', 'helpcon3mCNTmax',\n",
    "       'ALL_RH', 'ALL_AH', 'ALL_re', 'ALL_fbCNT', 'ALL_nCR', 'ALL_nMR',\n",
    "       'ALL_nTR', 'ALL_nconcompla', 'ALL_nconcompli', 'ALL_nmatcompla',\n",
    "       'ALL_nmatcompli', 'ALL_nteccompla', 'ALL_accLIKE', 'ALL_proLIKE',\n",
    "       'ALL_accDLIKE', 'ALL_proDLIKE', 'ALL_FavorCNT', 'ALL_BlockCNT',\n",
    "       'ALL_AddFavorCNT', 'ALL_AddBlockCNT', 'ALL_star', 'ALL_isIntCNT',\n",
    "       'ALL_LVdiffCNT', 'ALL_MGMLead', 'ALL_MGMRes', 'ALL_MGMDemo',\n",
    "       'ALL_MGMDeal', 'ALL_conUUCCNT', 'ALL_conSOUCNT', 'ALL_conSERCNT',\n",
    "       'ALL_conTWBCNT', 'ALL_conOTHCNT', 'ALL_conLigCNT', 'ALL_conMedCNT',\n",
    "       'ALL_conTanCNT', 'ALL_conDarCNT', 'ALL_conEx01CNT', 'ALL_conEx03CNT',\n",
    "       'ALL_conEx12CNT', 'ALL_conEx24CNT', 'ALL_conage30CNT',\n",
    "       'ALL_conage40CNT', 'ALL_conage50CNT', 'ALL_conage60CNT',\n",
    "       'ALL_conage61CNT', 'ALL_conMCNT', 'ALL_conFCNT', 'ALL_helpCNT',\n",
    "       'ALL_helpCNTmax', 'ALL_help3mCNT', 'ALL_help3mCNTmax', 'ALL_helpITCNT',\n",
    "       'ALL_helpITCNTmax', 'ALL_helpIT3mCNT', 'ALL_helpIT3mCNTmax',\n",
    "       'ALL_helpIiCNT', 'ALL_helpIiCNTmax', 'ALL_helpIi3mCNT',\n",
    "       'ALL_helpIi3mCNTmax', 'ALL_helpMaCNT', 'ALL_helpMaCNTmax',\n",
    "       'ALL_helpMa3mCNT', 'ALL_helpMa3mCNTmax', 'ALL_helpTeCNT',\n",
    "       'ALL_helpTeCNTmax', 'ALL_helpTe3mCNT', 'ALL_helpTe3mCNTmax',\n",
    "       'ALL_helpconCNT', 'ALL_helpconCNTmax', 'ALL_helpcon3mCNT',\n",
    "       'ALL_helpcon3mCNTmax','FDsellingdate',\n",
    "       'product_sdate', 'mb', 'mb_STV', 'mbdate', 'WarrantyPeriod', 'mbaCNT',\n",
    "       'mbadate_First', 'mbadate_New', 'MBA_technical', 'MBA_customer',\n",
    "       'MBA_Scheduling', 'MBA_Class', 'MBA_Service']]"
   ]
  },
  {
   "cell_type": "code",
   "execution_count": 4,
   "metadata": {},
   "outputs": [
    {
     "name": "stderr",
     "output_type": "stream",
     "text": [
      "D:\\ProgramData\\Anaconda3\\lib\\site-packages\\ipykernel_launcher.py:1: SettingWithCopyWarning: \n",
      "A value is trying to be set on a copy of a slice from a DataFrame.\n",
      "Try using .loc[row_indexer,col_indexer] = value instead\n",
      "\n",
      "See the caveats in the documentation: http://pandas.pydata.org/pandas-docs/stable/user_guide/indexing.html#returning-a-view-versus-a-copy\n",
      "  \"\"\"Entry point for launching an IPython kernel.\n",
      "D:\\ProgramData\\Anaconda3\\lib\\site-packages\\ipykernel_launcher.py:2: SettingWithCopyWarning: \n",
      "A value is trying to be set on a copy of a slice from a DataFrame.\n",
      "Try using .loc[row_indexer,col_indexer] = value instead\n",
      "\n",
      "See the caveats in the documentation: http://pandas.pydata.org/pandas-docs/stable/user_guide/indexing.html#returning-a-view-versus-a-copy\n",
      "  \n",
      "D:\\ProgramData\\Anaconda3\\lib\\site-packages\\ipykernel_launcher.py:3: SettingWithCopyWarning: \n",
      "A value is trying to be set on a copy of a slice from a DataFrame.\n",
      "Try using .loc[row_indexer,col_indexer] = value instead\n",
      "\n",
      "See the caveats in the documentation: http://pandas.pydata.org/pandas-docs/stable/user_guide/indexing.html#returning-a-view-versus-a-copy\n",
      "  This is separate from the ipykernel package so we can avoid doing imports until\n",
      "D:\\ProgramData\\Anaconda3\\lib\\site-packages\\ipykernel_launcher.py:4: SettingWithCopyWarning: \n",
      "A value is trying to be set on a copy of a slice from a DataFrame.\n",
      "Try using .loc[row_indexer,col_indexer] = value instead\n",
      "\n",
      "See the caveats in the documentation: http://pandas.pydata.org/pandas-docs/stable/user_guide/indexing.html#returning-a-view-versus-a-copy\n",
      "  after removing the cwd from sys.path.\n",
      "D:\\ProgramData\\Anaconda3\\lib\\site-packages\\ipykernel_launcher.py:5: SettingWithCopyWarning: \n",
      "A value is trying to be set on a copy of a slice from a DataFrame.\n",
      "Try using .loc[row_indexer,col_indexer] = value instead\n",
      "\n",
      "See the caveats in the documentation: http://pandas.pydata.org/pandas-docs/stable/user_guide/indexing.html#returning-a-view-versus-a-copy\n",
      "  \"\"\"\n",
      "D:\\ProgramData\\Anaconda3\\lib\\site-packages\\ipykernel_launcher.py:6: SettingWithCopyWarning: \n",
      "A value is trying to be set on a copy of a slice from a DataFrame.\n",
      "Try using .loc[row_indexer,col_indexer] = value instead\n",
      "\n",
      "See the caveats in the documentation: http://pandas.pydata.org/pandas-docs/stable/user_guide/indexing.html#returning-a-view-versus-a-copy\n",
      "  \n",
      "D:\\ProgramData\\Anaconda3\\lib\\site-packages\\ipykernel_launcher.py:7: SettingWithCopyWarning: \n",
      "A value is trying to be set on a copy of a slice from a DataFrame.\n",
      "Try using .loc[row_indexer,col_indexer] = value instead\n",
      "\n",
      "See the caveats in the documentation: http://pandas.pydata.org/pandas-docs/stable/user_guide/indexing.html#returning-a-view-versus-a-copy\n",
      "  import sys\n",
      "D:\\ProgramData\\Anaconda3\\lib\\site-packages\\ipykernel_launcher.py:8: SettingWithCopyWarning: \n",
      "A value is trying to be set on a copy of a slice from a DataFrame.\n",
      "Try using .loc[row_indexer,col_indexer] = value instead\n",
      "\n",
      "See the caveats in the documentation: http://pandas.pydata.org/pandas-docs/stable/user_guide/indexing.html#returning-a-view-versus-a-copy\n",
      "  \n",
      "D:\\ProgramData\\Anaconda3\\lib\\site-packages\\ipykernel_launcher.py:9: SettingWithCopyWarning: \n",
      "A value is trying to be set on a copy of a slice from a DataFrame.\n",
      "Try using .loc[row_indexer,col_indexer] = value instead\n",
      "\n",
      "See the caveats in the documentation: http://pandas.pydata.org/pandas-docs/stable/user_guide/indexing.html#returning-a-view-versus-a-copy\n",
      "  if __name__ == '__main__':\n",
      "D:\\ProgramData\\Anaconda3\\lib\\site-packages\\ipykernel_launcher.py:10: SettingWithCopyWarning: \n",
      "A value is trying to be set on a copy of a slice from a DataFrame.\n",
      "Try using .loc[row_indexer,col_indexer] = value instead\n",
      "\n",
      "See the caveats in the documentation: http://pandas.pydata.org/pandas-docs/stable/user_guide/indexing.html#returning-a-view-versus-a-copy\n",
      "  # Remove the CWD from sys.path while we load stuff.\n",
      "D:\\ProgramData\\Anaconda3\\lib\\site-packages\\ipykernel_launcher.py:12: SettingWithCopyWarning: \n",
      "A value is trying to be set on a copy of a slice from a DataFrame.\n",
      "Try using .loc[row_indexer,col_indexer] = value instead\n",
      "\n",
      "See the caveats in the documentation: http://pandas.pydata.org/pandas-docs/stable/user_guide/indexing.html#returning-a-view-versus-a-copy\n",
      "  if sys.path[0] == '':\n",
      "D:\\ProgramData\\Anaconda3\\lib\\site-packages\\ipykernel_launcher.py:13: SettingWithCopyWarning: \n",
      "A value is trying to be set on a copy of a slice from a DataFrame.\n",
      "Try using .loc[row_indexer,col_indexer] = value instead\n",
      "\n",
      "See the caveats in the documentation: http://pandas.pydata.org/pandas-docs/stable/user_guide/indexing.html#returning-a-view-versus-a-copy\n",
      "  del sys.path[0]\n",
      "D:\\ProgramData\\Anaconda3\\lib\\site-packages\\ipykernel_launcher.py:14: SettingWithCopyWarning: \n",
      "A value is trying to be set on a copy of a slice from a DataFrame.\n",
      "Try using .loc[row_indexer,col_indexer] = value instead\n",
      "\n",
      "See the caveats in the documentation: http://pandas.pydata.org/pandas-docs/stable/user_guide/indexing.html#returning-a-view-versus-a-copy\n",
      "  \n",
      "D:\\ProgramData\\Anaconda3\\lib\\site-packages\\ipykernel_launcher.py:15: SettingWithCopyWarning: \n",
      "A value is trying to be set on a copy of a slice from a DataFrame.\n",
      "Try using .loc[row_indexer,col_indexer] = value instead\n",
      "\n",
      "See the caveats in the documentation: http://pandas.pydata.org/pandas-docs/stable/user_guide/indexing.html#returning-a-view-versus-a-copy\n",
      "  from ipykernel import kernelapp as app\n",
      "D:\\ProgramData\\Anaconda3\\lib\\site-packages\\ipykernel_launcher.py:16: SettingWithCopyWarning: \n",
      "A value is trying to be set on a copy of a slice from a DataFrame.\n",
      "Try using .loc[row_indexer,col_indexer] = value instead\n",
      "\n",
      "See the caveats in the documentation: http://pandas.pydata.org/pandas-docs/stable/user_guide/indexing.html#returning-a-view-versus-a-copy\n",
      "  app.launch_new_instance()\n",
      "D:\\ProgramData\\Anaconda3\\lib\\site-packages\\ipykernel_launcher.py:17: SettingWithCopyWarning: \n",
      "A value is trying to be set on a copy of a slice from a DataFrame.\n",
      "Try using .loc[row_indexer,col_indexer] = value instead\n",
      "\n",
      "See the caveats in the documentation: http://pandas.pydata.org/pandas-docs/stable/user_guide/indexing.html#returning-a-view-versus-a-copy\n",
      "D:\\ProgramData\\Anaconda3\\lib\\site-packages\\ipykernel_launcher.py:70: FutureWarning: Passing integers to fillna is deprecated, will raise a TypeError in a future version.  To retain the old behavior, pass pd.Timedelta(seconds=n) instead.\n"
     ]
    },
    {
     "name": "stdout",
     "output_type": "stream",
     "text": [
      "(998626, 167)\n"
     ]
    },
    {
     "data": {
      "text/plain": [
       "\"df_test = dff_all\\ndf_test['mbadiff'] = (df_test['mbadiff'] / np.timedelta64(1, 'D')).astype(float)\\ndf_test['mbaFtoSelltime'] = (df_test['mbaFtoSelltime'] / np.timedelta64(1, 'D')).astype(float)\\ndf_test['mbaNtoSelltime'] = (df_test['mbaNtoSelltime'] / np.timedelta64(1, 'D')).astype(float)\\n\\ndf_test['RH'] = df_test['RH'].fillna(0)\\ndf_test['AH'] = df_test['AH'].fillna(0)\\ndf_test['re'] = df_test['re'].fillna(0)\\ndf_test['fbCNT'] = df_test['fbCNT'].fillna(0)\\ndf_test['nCR'] = df_test['nCR'].fillna(0)\\ndf_test['nMR'] = df_test['nMR'].fillna(0)\\ndf_test['nTR'] = df_test['nTR'].fillna(0)\\n#mean_nconcompla = df_test['nconcompla'].mean()\\n#mean_nmatcompla = df_test['nmatcompla'].mean()\\n#mean_nteccompla = df_test['nteccompla'].mean()\\ndf_test['nconcompla'] = df_test['nconcompla'].fillna(0)\\ndf_test['nmatcompla'] = df_test['nmatcompla'].fillna(0)\\ndf_test['nteccompla'] = df_test['nteccompla'].fillna(0)\\ndf_test['star'] = df_test['star'].fillna(1)\\ndf_test = df_test[df_test['star']<=5.0]\\ndf_test['ALL_star'] = df_test['ALL_star'].fillna(1)\\ndf_test = df_test[df_test['ALL_star']<=10.0]\\ndf_test['isIntCNT'] = df_test['isIntCNT'].fillna(0)\\ndf_test['ALL_RH'] = df_test['ALL_RH'].fillna(0)\\ndf_test['ALL_AH'] = df_test['ALL_AH'].fillna(0)\\ndf_test['ALL_re'] = df_test['ALL_re'].fillna(0)\\ndf_test['ALL_fbCNT'] = df_test['ALL_fbCNT'].fillna(0)\\ndf_test['ALL_nCR'] = df_test['ALL_nCR'].fillna(1)\\ndf_test['ALL_nMR'] = df_test['ALL_nMR'].fillna(1)\\ndf_test['ALL_nTR'] = df_test['ALL_nTR'].fillna(1)\\ndf_test['ALL_nconcompla'] = df_test['ALL_nconcompla'].fillna(1)\\ndf_test['ALL_nmatcompla'] = df_test['ALL_nmatcompla'].fillna(1)\\ndf_test['ALL_nteccompla'] = df_test['ALL_nteccompla'].fillna(1)\\ndf_test['ALL_isIntCNT'] = df_test['ALL_isIntCNT'].fillna(0)\\ndf_test['MGM_total'] = df_test['MGMLead']+df_test['MGMRes']+df_test['MGMDemo']+df_test['MGMDeal']\\ndf_test['ALL_MGM_total']= df_test['ALL_MGMLead']+df_test['ALL_MGMRes']+df_test['ALL_MGMDemo']+df_test['ALL_MGMDeal']\\ndf_test['Like_total'] = df_test['accLIKE']+df_test['proLIKE']\\ndf_test['ALL_Like_total'] = df_test['ALL_accLIKE']+df_test['ALL_proLIKE']\\ndf_test['DLike_total'] = df_test['accDLIKE']+df_test['proDLIKE']\\ndf_test['ALL_DLike_total'] = df_test['ALL_accDLIKE']+df_test['ALL_proDLIKE']\\ndf_test['help_total'] = df_test['helpITCNT']+df_test['helpIiCNT']+df_test['helpTeCNT']+df_test['helpMaCNT']+df_test['helpconCNT']\\ndf_test['ALL_help_total'] = df_test['ALL_helpITCNT']+df_test['ALL_helpIiCNT']+df_test['ALL_helpTeCNT']+df_test['ALL_helpMaCNT']+df_test['ALL_helpconCNT']\\ndf_test['help_max_total'] = df_test['helpITCNTmax']+df_test['helpIiCNTmax']+df_test['helpTeCNTmax']+df_test['helpMaCNTmax']+df_test['helpconCNTmax']\\ndf_test['ALL_help_max_total'] = df_test['ALL_helpITCNTmax']+df_test['ALL_helpIiCNTmax']+df_test['ALL_helpTeCNTmax']+df_test['ALL_helpMaCNTmax']+df_test['ALL_helpconCNTmax']\\ndf_test['3mhelp_max_total'] = df_test['helpIT3mCNTmax']+df_test['helpIi3mCNTmax']+df_test['helpTe3mCNTmax']+df_test['helpMa3mCNTmax']+df_test['helpcon3mCNTmax']\\ndf_test['ALL3m_help_max_total'] = df_test['ALL_helpIT3mCNTmax']+df_test['ALL_helpIi3mCNTmax']+df_test['ALL_helpTe3mCNTmax']+df_test['ALL_helpMa3mCNTmax']+df_test['ALL_helpcon3mCNTmax']\\n\\ndf_test = df_test.fillna(0)\\ndf_test['DATE']=pd.to_datetime(df_test['DATE']).dt.date\\ndf_test = df_test[df_test['mbaFtoSelltime']>=0.0]\\ndf_test = df_test[df_test['mbaNtoSelltime']>=0.0]\\nprint(df_test.shape)\""
      ]
     },
     "execution_count": 4,
     "metadata": {},
     "output_type": "execute_result"
    }
   ],
   "source": [
    "dff_all['MBA_technical'] = dff_all['MBA_technical'].fillna(0)\n",
    "dff_all['MBA_customer'] = dff_all['MBA_customer'].fillna(0)\n",
    "dff_all['MBA_Scheduling'] = dff_all['MBA_Scheduling'].fillna(0)\n",
    "dff_all['MBA_Class'] = dff_all['MBA_Class'].fillna(0)\n",
    "dff_all['MBA_Service'] = dff_all['MBA_Service'].fillna(0)\n",
    "dff_all['MBA_total']=dff_all['MBA_Class']+dff_all['MBA_Scheduling']+dff_all['MBA_Service']+dff_all['MBA_customer']+dff_all['MBA_technical']\n",
    "dff_all['mbadate_First']=pd.to_datetime(dff_all['mbadate_First']).dt.date\n",
    "dff_all['mbadate_New']=pd.to_datetime(dff_all['mbadate_New']).dt.date\n",
    "dff_all['FDsellingdate']=pd.to_datetime(dff_all['FDsellingdate']).dt.date\n",
    "dff_all['mbdate']=pd.to_datetime(dff_all['mbdate']).dt.date\n",
    "\n",
    "dff_all['mbadiff'] = dff_all['mbadate_New']-dff_all['mbadate_First']\n",
    "dff_all['mbtime'] = dff_all['mbdate']-dff_all['FDsellingdate']\n",
    "dff_all['mbaFtoSelltime'] = dff_all['mbadate_First']-dff_all['FDsellingdate']\n",
    "dff_all['mbaNtoSelltime'] = dff_all['mbadate_New']-dff_all['FDsellingdate']\n",
    "dff_all['mbFdiff'] = dff_all['mbdate']-dff_all['mbadate_First']\n",
    "dff_all['mbNdiff'] = dff_all['mbdate']-dff_all['mbadate_New']\n",
    "dff_all = dff_all.drop(['MBA_technical','MBA_customer','MBA_Scheduling','MBA_Class','MBA_Service'],axis=1)\n",
    "dff_all = dff_all.drop(['ALL_nconcompli','ALL_nmatcompli'],axis=1)\n",
    "dff_all = dff_all.drop(['mbadate_First','mbadate_New','FDsellingdate'],axis=1)\n",
    "dff_all = dff_all.drop(['WarrantyPeriod'],axis=1)\n",
    "dff_all = dff_all.drop(['product_sdate'],axis=1)\n",
    "\n",
    "dff_all['mbadiff'] = (dff_all['mbadiff'] / np.timedelta64(1, 'D')).astype(float)\n",
    "dff_all['mbaFtoSelltime'] = (dff_all['mbaFtoSelltime'] / np.timedelta64(1, 'D')).astype(float)\n",
    "dff_all['mbaNtoSelltime'] = (dff_all['mbaNtoSelltime'] / np.timedelta64(1, 'D')).astype(float)\n",
    "\n",
    "dff_all['RH'] = dff_all['RH'].fillna(0)\n",
    "dff_all['AH'] = dff_all['AH'].fillna(0)\n",
    "dff_all['re'] = dff_all['re'].fillna(0)\n",
    "dff_all['fbCNT'] = dff_all['fbCNT'].fillna(0)\n",
    "dff_all['nCR'] = dff_all['nCR'].fillna(0)\n",
    "dff_all['nMR'] = dff_all['nMR'].fillna(0)\n",
    "dff_all['nTR'] = dff_all['nTR'].fillna(0)\n",
    "#mean_nconcompla = dff_all['nconcompla'].mean()\n",
    "#mean_nmatcompla = dff_all['nmatcompla'].mean()\n",
    "#mean_nteccompla = dff_all['nteccompla'].mean()\n",
    "dff_all['nconcompla'] = dff_all['nconcompla'].fillna(0)\n",
    "dff_all['nmatcompla'] = dff_all['nmatcompla'].fillna(0)\n",
    "dff_all['nteccompla'] = dff_all['nteccompla'].fillna(0)\n",
    "dff_all['star'] = dff_all['star'].fillna(1)\n",
    "dff_all = dff_all[dff_all['star']<=5.0]\n",
    "dff_all['ALL_star'] = dff_all['ALL_star'].fillna(1)\n",
    "dff_all = dff_all[dff_all['ALL_star']<=10.0]\n",
    "dff_all['isIntCNT'] = dff_all['isIntCNT'].fillna(0)\n",
    "dff_all['ALL_RH'] = dff_all['ALL_RH'].fillna(0)\n",
    "dff_all['ALL_AH'] = dff_all['ALL_AH'].fillna(0)\n",
    "dff_all['ALL_re'] = dff_all['ALL_re'].fillna(0)\n",
    "dff_all['ALL_fbCNT'] = dff_all['ALL_fbCNT'].fillna(0)\n",
    "dff_all['ALL_nCR'] = dff_all['ALL_nCR'].fillna(1)\n",
    "dff_all['ALL_nMR'] = dff_all['ALL_nMR'].fillna(1)\n",
    "dff_all['ALL_nTR'] = dff_all['ALL_nTR'].fillna(1)\n",
    "dff_all['ALL_nconcompla'] = dff_all['ALL_nconcompla'].fillna(1)\n",
    "dff_all['ALL_nmatcompla'] = dff_all['ALL_nmatcompla'].fillna(1)\n",
    "dff_all['ALL_nteccompla'] = dff_all['ALL_nteccompla'].fillna(1)\n",
    "dff_all['ALL_isIntCNT'] = dff_all['ALL_isIntCNT'].fillna(0)\n",
    "dff_all['MGM_total'] = dff_all['MGMLead']+dff_all['MGMRes']+dff_all['MGMDemo']+dff_all['MGMDeal']\n",
    "dff_all['ALL_MGM_total']= dff_all['ALL_MGMLead']+dff_all['ALL_MGMRes']+dff_all['ALL_MGMDemo']+dff_all['ALL_MGMDeal']\n",
    "dff_all['Like_total'] = dff_all['accLIKE']+dff_all['proLIKE']\n",
    "dff_all['ALL_Like_total'] = dff_all['ALL_accLIKE']+dff_all['ALL_proLIKE']\n",
    "dff_all['DLike_total'] = dff_all['accDLIKE']+dff_all['proDLIKE']\n",
    "dff_all['ALL_DLike_total'] = dff_all['ALL_accDLIKE']+dff_all['ALL_proDLIKE']\n",
    "dff_all['help_total'] = dff_all['helpITCNT']+dff_all['helpIiCNT']+dff_all['helpTeCNT']+dff_all['helpMaCNT']+dff_all['helpconCNT']\n",
    "dff_all['ALL_help_total'] = dff_all['ALL_helpITCNT']+dff_all['ALL_helpIiCNT']+dff_all['ALL_helpTeCNT']+dff_all['ALL_helpMaCNT']+dff_all['ALL_helpconCNT']\n",
    "dff_all['help_max_total'] = dff_all['helpITCNTmax']+dff_all['helpIiCNTmax']+dff_all['helpTeCNTmax']+dff_all['helpMaCNTmax']+dff_all['helpconCNTmax']\n",
    "dff_all['ALL_help_max_total'] = dff_all['ALL_helpITCNTmax']+dff_all['ALL_helpIiCNTmax']+dff_all['ALL_helpTeCNTmax']+dff_all['ALL_helpMaCNTmax']+dff_all['ALL_helpconCNTmax']\n",
    "dff_all['3mhelp_max_total'] = dff_all['helpIT3mCNTmax']+dff_all['helpIi3mCNTmax']+dff_all['helpTe3mCNTmax']+dff_all['helpMa3mCNTmax']+dff_all['helpcon3mCNTmax']\n",
    "dff_all['ALL3m_help_max_total'] = dff_all['ALL_helpIT3mCNTmax']+dff_all['ALL_helpIi3mCNTmax']+dff_all['ALL_helpTe3mCNTmax']+dff_all['ALL_helpMa3mCNTmax']+dff_all['ALL_helpcon3mCNTmax']\n",
    "\n",
    "dff_all = dff_all.fillna(0)\n",
    "dff_all['DATE']=pd.to_datetime(dff_all['DATE']).dt.date\n",
    "dff_all = dff_all[dff_all['mbaFtoSelltime']>=0.0]\n",
    "dff_all = dff_all[dff_all['mbaNtoSelltime']>=0.0]\n",
    "print(dff_all.shape)\n",
    "'''df_test = dff_all\n",
    "df_test['mbadiff'] = (df_test['mbadiff'] / np.timedelta64(1, 'D')).astype(float)\n",
    "df_test['mbaFtoSelltime'] = (df_test['mbaFtoSelltime'] / np.timedelta64(1, 'D')).astype(float)\n",
    "df_test['mbaNtoSelltime'] = (df_test['mbaNtoSelltime'] / np.timedelta64(1, 'D')).astype(float)\n",
    "\n",
    "df_test['RH'] = df_test['RH'].fillna(0)\n",
    "df_test['AH'] = df_test['AH'].fillna(0)\n",
    "df_test['re'] = df_test['re'].fillna(0)\n",
    "df_test['fbCNT'] = df_test['fbCNT'].fillna(0)\n",
    "df_test['nCR'] = df_test['nCR'].fillna(0)\n",
    "df_test['nMR'] = df_test['nMR'].fillna(0)\n",
    "df_test['nTR'] = df_test['nTR'].fillna(0)\n",
    "#mean_nconcompla = df_test['nconcompla'].mean()\n",
    "#mean_nmatcompla = df_test['nmatcompla'].mean()\n",
    "#mean_nteccompla = df_test['nteccompla'].mean()\n",
    "df_test['nconcompla'] = df_test['nconcompla'].fillna(0)\n",
    "df_test['nmatcompla'] = df_test['nmatcompla'].fillna(0)\n",
    "df_test['nteccompla'] = df_test['nteccompla'].fillna(0)\n",
    "df_test['star'] = df_test['star'].fillna(1)\n",
    "df_test = df_test[df_test['star']<=5.0]\n",
    "df_test['ALL_star'] = df_test['ALL_star'].fillna(1)\n",
    "df_test = df_test[df_test['ALL_star']<=10.0]\n",
    "df_test['isIntCNT'] = df_test['isIntCNT'].fillna(0)\n",
    "df_test['ALL_RH'] = df_test['ALL_RH'].fillna(0)\n",
    "df_test['ALL_AH'] = df_test['ALL_AH'].fillna(0)\n",
    "df_test['ALL_re'] = df_test['ALL_re'].fillna(0)\n",
    "df_test['ALL_fbCNT'] = df_test['ALL_fbCNT'].fillna(0)\n",
    "df_test['ALL_nCR'] = df_test['ALL_nCR'].fillna(1)\n",
    "df_test['ALL_nMR'] = df_test['ALL_nMR'].fillna(1)\n",
    "df_test['ALL_nTR'] = df_test['ALL_nTR'].fillna(1)\n",
    "df_test['ALL_nconcompla'] = df_test['ALL_nconcompla'].fillna(1)\n",
    "df_test['ALL_nmatcompla'] = df_test['ALL_nmatcompla'].fillna(1)\n",
    "df_test['ALL_nteccompla'] = df_test['ALL_nteccompla'].fillna(1)\n",
    "df_test['ALL_isIntCNT'] = df_test['ALL_isIntCNT'].fillna(0)\n",
    "df_test['MGM_total'] = df_test['MGMLead']+df_test['MGMRes']+df_test['MGMDemo']+df_test['MGMDeal']\n",
    "df_test['ALL_MGM_total']= df_test['ALL_MGMLead']+df_test['ALL_MGMRes']+df_test['ALL_MGMDemo']+df_test['ALL_MGMDeal']\n",
    "df_test['Like_total'] = df_test['accLIKE']+df_test['proLIKE']\n",
    "df_test['ALL_Like_total'] = df_test['ALL_accLIKE']+df_test['ALL_proLIKE']\n",
    "df_test['DLike_total'] = df_test['accDLIKE']+df_test['proDLIKE']\n",
    "df_test['ALL_DLike_total'] = df_test['ALL_accDLIKE']+df_test['ALL_proDLIKE']\n",
    "df_test['help_total'] = df_test['helpITCNT']+df_test['helpIiCNT']+df_test['helpTeCNT']+df_test['helpMaCNT']+df_test['helpconCNT']\n",
    "df_test['ALL_help_total'] = df_test['ALL_helpITCNT']+df_test['ALL_helpIiCNT']+df_test['ALL_helpTeCNT']+df_test['ALL_helpMaCNT']+df_test['ALL_helpconCNT']\n",
    "df_test['help_max_total'] = df_test['helpITCNTmax']+df_test['helpIiCNTmax']+df_test['helpTeCNTmax']+df_test['helpMaCNTmax']+df_test['helpconCNTmax']\n",
    "df_test['ALL_help_max_total'] = df_test['ALL_helpITCNTmax']+df_test['ALL_helpIiCNTmax']+df_test['ALL_helpTeCNTmax']+df_test['ALL_helpMaCNTmax']+df_test['ALL_helpconCNTmax']\n",
    "df_test['3mhelp_max_total'] = df_test['helpIT3mCNTmax']+df_test['helpIi3mCNTmax']+df_test['helpTe3mCNTmax']+df_test['helpMa3mCNTmax']+df_test['helpcon3mCNTmax']\n",
    "df_test['ALL3m_help_max_total'] = df_test['ALL_helpIT3mCNTmax']+df_test['ALL_helpIi3mCNTmax']+df_test['ALL_helpTe3mCNTmax']+df_test['ALL_helpMa3mCNTmax']+df_test['ALL_helpcon3mCNTmax']\n",
    "\n",
    "df_test = df_test.fillna(0)\n",
    "df_test['DATE']=pd.to_datetime(df_test['DATE']).dt.date\n",
    "df_test = df_test[df_test['mbaFtoSelltime']>=0.0]\n",
    "df_test = df_test[df_test['mbaNtoSelltime']>=0.0]\n",
    "print(df_test.shape)'''"
   ]
  },
  {
   "cell_type": "code",
   "execution_count": 5,
   "metadata": {},
   "outputs": [
    {
     "data": {
      "text/plain": [
       "(998626, 72)"
      ]
     },
     "execution_count": 5,
     "metadata": {},
     "output_type": "execute_result"
    }
   ],
   "source": [
    "df_Sum = dff_all[['DDwFD', 'contractsn', 'DATE','mb','mbdate','DuringMBA', 'RH', 'AH', 're', 'fbCNT',\n",
    "       'nCR', 'nMR', 'nTR', 'nconcompla', 'nmatcompla','nteccompla', \n",
    "       'star', 'isIntCNT','ALL_RH', 'ALL_AH', 'ALL_re', 'ALL_fbCNT', 'ALL_nCR', 'ALL_nMR',\n",
    "       'ALL_nTR', 'ALL_nconcompla', 'ALL_nmatcompla', 'ALL_nteccompla',\n",
    "       'ALL_accLIKE', 'ALL_proLIKE', 'ALL_accDLIKE', 'ALL_proDLIKE',\n",
    "       'ALL_FavorCNT', 'ALL_BlockCNT', 'ALL_AddFavorCNT', 'ALL_AddBlockCNT',\n",
    "       'ALL_star', 'ALL_isIntCNT',\n",
    "       'ALL_conUUCCNT','ALL_conSOUCNT', 'ALL_conSERCNT', 'ALL_conTWBCNT', 'ALL_conOTHCNT',\n",
    "       'ALL_conLigCNT', 'ALL_conMedCNT', 'ALL_conTanCNT', 'ALL_conDarCNT',\n",
    "       'ALL_conEx01CNT', 'ALL_conEx03CNT', 'ALL_conEx12CNT', 'ALL_conEx24CNT',\n",
    "       'ALL_conage30CNT', 'ALL_conage40CNT', 'ALL_conage50CNT',\n",
    "       'ALL_conage60CNT', 'ALL_conage61CNT', 'ALL_conMCNT', 'ALL_conFCNT',\n",
    "       'ALL_helpCNT','ALL_help3mCNT',\n",
    "       'mb_STV', 'mbaCNT',\n",
    "       'MBA_total', 'mbadiff','mbaFtoSelltime', 'mbaNtoSelltime',\n",
    "       'ALL_MGM_total','ALL_Like_total', 'ALL_DLike_total','ALL_help_total', 'ALL_help_max_total','ALL3m_help_max_total']]\n",
    "df_Sum.shape"
   ]
  },
  {
   "cell_type": "code",
   "execution_count": 6,
   "metadata": {},
   "outputs": [
    {
     "name": "stdout",
     "output_type": "stream",
     "text": [
      "(125089, 72)\n",
      "(5040,)\n"
     ]
    }
   ],
   "source": [
    "df_mb = df_Sum[df_Sum['mb']==1]\n",
    "print(df_mb.shape)\n",
    "print(df_mb['contractsn'].unique().shape)"
   ]
  },
  {
   "cell_type": "code",
   "execution_count": 7,
   "metadata": {},
   "outputs": [
    {
     "data": {
      "text/plain": [
       "(0, 72)"
      ]
     },
     "execution_count": 7,
     "metadata": {},
     "output_type": "execute_result"
    }
   ],
   "source": [
    "df_mb = df_mb.sort_values(by=['contractsn','DDwFD'])\n",
    "df_mb['mb'] = df_mb['mb'].replace(1,0)\n",
    "df_mb[df_mb['mb']==1].shape"
   ]
  },
  {
   "cell_type": "code",
   "execution_count": 8,
   "metadata": {},
   "outputs": [
    {
     "name": "stdout",
     "output_type": "stream",
     "text": [
      "(5040, 72)\n"
     ]
    }
   ],
   "source": [
    "df_t = pd.DataFrame()\n",
    "\n",
    "for i in df_mb['contractsn'].unique():\n",
    "    ds = df_mb[df_mb['contractsn']==i].tail(1)\n",
    "    df_t = df_t.append(ds)\n",
    "\n",
    "df_t['mb'] = df_t['mb'].replace(0,1)\n",
    "\n",
    "print(df_t[df_t['mb']==1].shape)"
   ]
  },
  {
   "cell_type": "code",
   "execution_count": 50,
   "metadata": {},
   "outputs": [
    {
     "data": {
      "text/plain": [
       "\"df_mb.drop_duplicates()\\ndf_mb_t = pd.DataFrame()\\nfor i in df_mb['contractsn'].unique():\\n    ds = df_mb.drop(df_mb[df_mb['contractsn']==i].tail(1),axis=0)\\n    df_mb_t = df_mb_t.append(ds)\\n    \\ndf_mb_t.shape\""
      ]
     },
     "execution_count": 50,
     "metadata": {},
     "output_type": "execute_result"
    }
   ],
   "source": [
    "df_mb.drop_duplicates()\n",
    "df_mb_t = pd.DataFrame()\n",
    "for i in df_mb['contractsn'].unique():\n",
    "    ds = df_mb.drop(df_mb[df_mb['contractsn']==i].tail(1),axis=0)\n",
    "    df_mb_t = df_mb_t.append(ds)\n",
    "    \n",
    "df_mb_t.shape"
   ]
  },
  {
   "cell_type": "code",
   "execution_count": 267,
   "metadata": {},
   "outputs": [],
   "source": [
    "# df['Event'] = np.where((df.Event == 'Painting'),'Art',df.Event)\n",
    "#for i in df_mb['contractsn'].unique():\n",
    "#    df_mb['mb'] = np.where((df_mb[df_mb['contractsn']==i].tail(1).mb ==0),1,df_mb.mb)"
   ]
  },
  {
   "cell_type": "code",
   "execution_count": null,
   "metadata": {},
   "outputs": [],
   "source": [
    "#df_mb['mb'][df_mb['contractsn']==i].tail(1).replace(0,1,inplace=True))\n",
    "#for i in df_mb['contractsn'].unique():\n",
    "#    df_mb[df_mb['contractsn']==i].tail(1).mask(df_mb['mb'] == 0, 1)"
   ]
  },
  {
   "cell_type": "code",
   "execution_count": 29,
   "metadata": {},
   "outputs": [
    {
     "data": {
      "text/plain": [
       "Index(['DDwFD', 'contractsn', 'DATE', 'mb', 'mbdate', 'DuringMBA', 'RH', 'AH',\n",
       "       're', 'fbCNT', 'nCR', 'nMR', 'nTR', 'nconcompla', 'nmatcompla',\n",
       "       'nteccompla', 'star', 'isIntCNT', 'ALL_RH', 'ALL_AH', 'ALL_re',\n",
       "       'ALL_fbCNT', 'ALL_nCR', 'ALL_nMR', 'ALL_nTR', 'ALL_nconcompla',\n",
       "       'ALL_nmatcompla', 'ALL_nteccompla', 'ALL_accLIKE', 'ALL_proLIKE',\n",
       "       'ALL_accDLIKE', 'ALL_proDLIKE', 'ALL_FavorCNT', 'ALL_BlockCNT',\n",
       "       'ALL_AddFavorCNT', 'ALL_AddBlockCNT', 'ALL_star', 'ALL_isIntCNT',\n",
       "       'ALL_conUUCCNT', 'ALL_conSOUCNT', 'ALL_conSERCNT', 'ALL_conTWBCNT',\n",
       "       'ALL_conOTHCNT', 'ALL_conLigCNT', 'ALL_conMedCNT', 'ALL_conTanCNT',\n",
       "       'ALL_conDarCNT', 'ALL_conEx01CNT', 'ALL_conEx03CNT', 'ALL_conEx12CNT',\n",
       "       'ALL_conEx24CNT', 'ALL_conage30CNT', 'ALL_conage40CNT',\n",
       "       'ALL_conage50CNT', 'ALL_conage60CNT', 'ALL_conage61CNT', 'ALL_conMCNT',\n",
       "       'ALL_conFCNT', 'ALL_helpCNT', 'ALL_help3mCNT', 'mb_STV', 'mbaCNT',\n",
       "       'MBA_total', 'mbadiff', 'mbaFtoSelltime', 'mbaNtoSelltime',\n",
       "       'ALL_MGM_total', 'ALL_Like_total', 'ALL_DLike_total', 'ALL_help_total',\n",
       "       'ALL_help_max_total', 'ALL3m_help_max_total'],\n",
       "      dtype='object')"
      ]
     },
     "execution_count": 29,
     "metadata": {},
     "output_type": "execute_result"
    }
   ],
   "source": [
    "df_mb.columns"
   ]
  }
 ],
 "metadata": {
  "kernelspec": {
   "display_name": "Python 3",
   "language": "python",
   "name": "python3"
  },
  "language_info": {
   "codemirror_mode": {
    "name": "ipython",
    "version": 3
   },
   "file_extension": ".py",
   "mimetype": "text/x-python",
   "name": "python",
   "nbconvert_exporter": "python",
   "pygments_lexer": "ipython3",
   "version": "3.7.4"
  }
 },
 "nbformat": 4,
 "nbformat_minor": 4
}
