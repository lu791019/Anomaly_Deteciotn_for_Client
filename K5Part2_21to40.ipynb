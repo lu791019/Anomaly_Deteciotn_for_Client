{
 "cells": [
  {
   "cell_type": "code",
   "execution_count": 3,
   "metadata": {},
   "outputs": [],
   "source": [
    "import pandas as pd\n",
    "import numpy as np\n",
    "import statsmodels.api as sm\n",
    "import itertools\n",
    "# ----設定繪圖-------\n",
    "import matplotlib.pyplot as plt\n",
    "plt.rcParams['font.sans-serif'] = ['Microsoft Dexter'] \n",
    "plt.rcParams['axes.unicode_minus'] = False  \n",
    "from matplotlib.font_manager import FontProperties \n",
    "import seaborn as sns \n",
    "myfont=FontProperties(fname='Microsoft JhengHei',size=14) \n",
    "sns.set(font=myfont.get_family()) \n",
    "sns.set_style(\"darkgrid\",{\"font.sans-serif\":['Microsoft Dexter']}) \n",
    "pd.set_option('display.max_columns', None)\n",
    "pd.set_option('display.max_rows', None)\n",
    "pd.options.display.max_seq_items = None\n",
    "#------時間------\n",
    "from datetime import datetime,timedelta\n",
    "from datetime import datetime as dt\n",
    "import time\n",
    "\n",
    "from sklearn.model_selection import train_test_split,cross_val_score,cross_val_predict,cross_validate\n",
    "from sklearn.externals import joblib\n",
    "from sklearn.ensemble import IsolationForest\n",
    "from sklearn import svm\n",
    "from sklearn.preprocessing import MinMaxScaler,StandardScaler\n",
    "from sklearn.metrics import accuracy_score,f1_score,r2_score,recall_score,roc_auc_score,precision_recall_curve,roc_curve,auc\n",
    "from sklearn.metrics import confusion_matrix,classification_report\n",
    "from sklearn.model_selection import cross_val_predict,cross_val_score\n",
    "from sklearn.decomposition import PCA\n",
    "import matplotlib.pylab as plt\n",
    "import scikitplot as skplt\n",
    "from category_encoders import TargetEncoder"
   ]
  },
  {
   "cell_type": "code",
   "execution_count": 4,
   "metadata": {},
   "outputs": [
    {
     "name": "stdout",
     "output_type": "stream",
     "text": [
      "---------- Data Sets information ----------\n",
      "datasets raw counts 465768\n",
      "datasets column counts 444\n",
      "---------- Check 1-value-variable column ----------\n",
      "        column_name  species_counts\n",
      "404    L14D_conMCNT               1\n",
      "435  WarrantyPeriod               1\n",
      "---------- Check 1-value-variable value and counts ----------\n",
      "0.0    400590\n",
      "Name: L14D_conMCNT, dtype: int64\n",
      "7    465768\n",
      "Name: WarrantyPeriod, dtype: int64\n"
     ]
    }
   ],
   "source": [
    "df_head = pd.read_csv('D:/karma5.0/0121/head.csv')\n",
    "df = pd.read_csv('D:/karma5.0/0212/K5datasets21to40.csv',names=df_head.columns.tolist())\n",
    "print('-'*10,'Data Sets information','-'*10)\n",
    "print('datasets raw counts',df.shape[0])\n",
    "print('datasets column counts',df.shape[1])\n",
    "\n",
    "\n",
    "L11=[]\n",
    "L22=list(df.isnull().sum()/len(df))\n",
    "for i in df:\n",
    "    #print('column name','kinds counts')\n",
    "    L11.append((i,len(df[str(i)].value_counts())))\n",
    "print('-'*10,'Check 1-value-variable column','-'*10)\n",
    "df0 = pd.DataFrame(L11,columns=['column_name','species_counts'])\n",
    "print(df0[df0['species_counts']==1])\n",
    "print('-'*10,'Check 1-value-variable value and counts','-'*10)\n",
    "for i in df0['column_name'][df0['species_counts']==1]:\n",
    "    print(df[str(i)].value_counts())"
   ]
  },
  {
   "cell_type": "code",
   "execution_count": 5,
   "metadata": {},
   "outputs": [
    {
     "name": "stderr",
     "output_type": "stream",
     "text": [
      "D:\\ProgramData\\Anaconda3\\lib\\site-packages\\ipykernel_launcher.py:41: SettingWithCopyWarning: \n",
      "A value is trying to be set on a copy of a slice from a DataFrame.\n",
      "Try using .loc[row_indexer,col_indexer] = value instead\n",
      "\n",
      "See the caveats in the documentation: http://pandas.pydata.org/pandas-docs/stable/user_guide/indexing.html#returning-a-view-versus-a-copy\n",
      "D:\\ProgramData\\Anaconda3\\lib\\site-packages\\ipykernel_launcher.py:42: SettingWithCopyWarning: \n",
      "A value is trying to be set on a copy of a slice from a DataFrame.\n",
      "Try using .loc[row_indexer,col_indexer] = value instead\n",
      "\n",
      "See the caveats in the documentation: http://pandas.pydata.org/pandas-docs/stable/user_guide/indexing.html#returning-a-view-versus-a-copy\n",
      "D:\\ProgramData\\Anaconda3\\lib\\site-packages\\ipykernel_launcher.py:43: SettingWithCopyWarning: \n",
      "A value is trying to be set on a copy of a slice from a DataFrame.\n",
      "Try using .loc[row_indexer,col_indexer] = value instead\n",
      "\n",
      "See the caveats in the documentation: http://pandas.pydata.org/pandas-docs/stable/user_guide/indexing.html#returning-a-view-versus-a-copy\n",
      "D:\\ProgramData\\Anaconda3\\lib\\site-packages\\ipykernel_launcher.py:44: SettingWithCopyWarning: \n",
      "A value is trying to be set on a copy of a slice from a DataFrame.\n",
      "Try using .loc[row_indexer,col_indexer] = value instead\n",
      "\n",
      "See the caveats in the documentation: http://pandas.pydata.org/pandas-docs/stable/user_guide/indexing.html#returning-a-view-versus-a-copy\n",
      "D:\\ProgramData\\Anaconda3\\lib\\site-packages\\ipykernel_launcher.py:45: SettingWithCopyWarning: \n",
      "A value is trying to be set on a copy of a slice from a DataFrame.\n",
      "Try using .loc[row_indexer,col_indexer] = value instead\n",
      "\n",
      "See the caveats in the documentation: http://pandas.pydata.org/pandas-docs/stable/user_guide/indexing.html#returning-a-view-versus-a-copy\n",
      "D:\\ProgramData\\Anaconda3\\lib\\site-packages\\ipykernel_launcher.py:46: SettingWithCopyWarning: \n",
      "A value is trying to be set on a copy of a slice from a DataFrame.\n",
      "Try using .loc[row_indexer,col_indexer] = value instead\n",
      "\n",
      "See the caveats in the documentation: http://pandas.pydata.org/pandas-docs/stable/user_guide/indexing.html#returning-a-view-versus-a-copy\n",
      "D:\\ProgramData\\Anaconda3\\lib\\site-packages\\ipykernel_launcher.py:47: SettingWithCopyWarning: \n",
      "A value is trying to be set on a copy of a slice from a DataFrame.\n",
      "Try using .loc[row_indexer,col_indexer] = value instead\n",
      "\n",
      "See the caveats in the documentation: http://pandas.pydata.org/pandas-docs/stable/user_guide/indexing.html#returning-a-view-versus-a-copy\n",
      "D:\\ProgramData\\Anaconda3\\lib\\site-packages\\ipykernel_launcher.py:48: SettingWithCopyWarning: \n",
      "A value is trying to be set on a copy of a slice from a DataFrame.\n",
      "Try using .loc[row_indexer,col_indexer] = value instead\n",
      "\n",
      "See the caveats in the documentation: http://pandas.pydata.org/pandas-docs/stable/user_guide/indexing.html#returning-a-view-versus-a-copy\n",
      "D:\\ProgramData\\Anaconda3\\lib\\site-packages\\ipykernel_launcher.py:49: SettingWithCopyWarning: \n",
      "A value is trying to be set on a copy of a slice from a DataFrame.\n",
      "Try using .loc[row_indexer,col_indexer] = value instead\n",
      "\n",
      "See the caveats in the documentation: http://pandas.pydata.org/pandas-docs/stable/user_guide/indexing.html#returning-a-view-versus-a-copy\n",
      "D:\\ProgramData\\Anaconda3\\lib\\site-packages\\ipykernel_launcher.py:50: SettingWithCopyWarning: \n",
      "A value is trying to be set on a copy of a slice from a DataFrame.\n",
      "Try using .loc[row_indexer,col_indexer] = value instead\n",
      "\n",
      "See the caveats in the documentation: http://pandas.pydata.org/pandas-docs/stable/user_guide/indexing.html#returning-a-view-versus-a-copy\n",
      "D:\\ProgramData\\Anaconda3\\lib\\site-packages\\ipykernel_launcher.py:52: SettingWithCopyWarning: \n",
      "A value is trying to be set on a copy of a slice from a DataFrame.\n",
      "Try using .loc[row_indexer,col_indexer] = value instead\n",
      "\n",
      "See the caveats in the documentation: http://pandas.pydata.org/pandas-docs/stable/user_guide/indexing.html#returning-a-view-versus-a-copy\n",
      "D:\\ProgramData\\Anaconda3\\lib\\site-packages\\ipykernel_launcher.py:53: SettingWithCopyWarning: \n",
      "A value is trying to be set on a copy of a slice from a DataFrame.\n",
      "Try using .loc[row_indexer,col_indexer] = value instead\n",
      "\n",
      "See the caveats in the documentation: http://pandas.pydata.org/pandas-docs/stable/user_guide/indexing.html#returning-a-view-versus-a-copy\n",
      "D:\\ProgramData\\Anaconda3\\lib\\site-packages\\ipykernel_launcher.py:54: SettingWithCopyWarning: \n",
      "A value is trying to be set on a copy of a slice from a DataFrame.\n",
      "Try using .loc[row_indexer,col_indexer] = value instead\n",
      "\n",
      "See the caveats in the documentation: http://pandas.pydata.org/pandas-docs/stable/user_guide/indexing.html#returning-a-view-versus-a-copy\n",
      "D:\\ProgramData\\Anaconda3\\lib\\site-packages\\ipykernel_launcher.py:55: SettingWithCopyWarning: \n",
      "A value is trying to be set on a copy of a slice from a DataFrame.\n",
      "Try using .loc[row_indexer,col_indexer] = value instead\n",
      "\n",
      "See the caveats in the documentation: http://pandas.pydata.org/pandas-docs/stable/user_guide/indexing.html#returning-a-view-versus-a-copy\n",
      "D:\\ProgramData\\Anaconda3\\lib\\site-packages\\ipykernel_launcher.py:56: SettingWithCopyWarning: \n",
      "A value is trying to be set on a copy of a slice from a DataFrame.\n",
      "Try using .loc[row_indexer,col_indexer] = value instead\n",
      "\n",
      "See the caveats in the documentation: http://pandas.pydata.org/pandas-docs/stable/user_guide/indexing.html#returning-a-view-versus-a-copy\n",
      "D:\\ProgramData\\Anaconda3\\lib\\site-packages\\ipykernel_launcher.py:57: SettingWithCopyWarning: \n",
      "A value is trying to be set on a copy of a slice from a DataFrame.\n",
      "Try using .loc[row_indexer,col_indexer] = value instead\n",
      "\n",
      "See the caveats in the documentation: http://pandas.pydata.org/pandas-docs/stable/user_guide/indexing.html#returning-a-view-versus-a-copy\n",
      "D:\\ProgramData\\Anaconda3\\lib\\site-packages\\ipykernel_launcher.py:110: FutureWarning: Passing integers to fillna is deprecated, will raise a TypeError in a future version.  To retain the old behavior, pass pd.Timedelta(seconds=n) instead.\n"
     ]
    },
    {
     "name": "stdout",
     "output_type": "stream",
     "text": [
      "(465175, 167)\n",
      "(465175, 67)\n"
     ]
    }
   ],
   "source": [
    "df_data = df[['DDwFD', 'contractsn', 'DATE', 'DuringMBA', 'RH', 'AH', 're', 'fbCNT',\n",
    "       'nCR', 'nMR', 'nTR', 'nconcompla', 'nconcompli', 'nmatcompla',\n",
    "       'nmatcompli', 'nteccompla', 'accLIKE', 'proLIKE', 'accDLIKE',\n",
    "       'proDLIKE', 'FavorCNT', 'BlockCNT', 'AddFavorCNT', 'AddBlockCNT',\n",
    "       'star', 'isIntCNT', 'LVdiffCNT', 'MGMLead', 'MGMRes', 'MGMDemo',\n",
    "       'MGMDeal', 'conUUCCNT', 'conSOUCNT', 'conSERCNT', 'conTWBCNT',\n",
    "       'conOTHCNT', 'conLigCNT', 'conMedCNT', 'conTanCNT', 'conDarCNT',\n",
    "       'conEx01CNT', 'conEx03CNT', 'conEx12CNT', 'conEx24CNT', 'conage30CNT',\n",
    "       'conage40CNT', 'conage50CNT', 'conage60CNT', 'conage61CNT', 'conMCNT',\n",
    "       'conFCNT', 'helpCNT', 'helpCNTmax', 'help3mCNT', 'help3mCNTmax',\n",
    "       'helpITCNT', 'helpITCNTmax', 'helpIT3mCNT', 'helpIT3mCNTmax',\n",
    "       'helpIiCNT', 'helpIiCNTmax', 'helpIi3mCNT', 'helpIi3mCNTmax',\n",
    "       'helpMaCNT', 'helpMaCNTmax', 'helpMa3mCNT', 'helpMa3mCNTmax',\n",
    "       'helpTeCNT', 'helpTeCNTmax', 'helpTe3mCNT', 'helpTe3mCNTmax',\n",
    "       'helpconCNT', 'helpconCNTmax', 'helpcon3mCNT', 'helpcon3mCNTmax',\n",
    "       'ALL_RH', 'ALL_AH', 'ALL_re', 'ALL_fbCNT', 'ALL_nCR', 'ALL_nMR',\n",
    "       'ALL_nTR', 'ALL_nconcompla', 'ALL_nconcompli', 'ALL_nmatcompla',\n",
    "       'ALL_nmatcompli', 'ALL_nteccompla', 'ALL_accLIKE', 'ALL_proLIKE',\n",
    "       'ALL_accDLIKE', 'ALL_proDLIKE', 'ALL_FavorCNT', 'ALL_BlockCNT',\n",
    "       'ALL_AddFavorCNT', 'ALL_AddBlockCNT', 'ALL_star', 'ALL_isIntCNT',\n",
    "       'ALL_LVdiffCNT', 'ALL_MGMLead', 'ALL_MGMRes', 'ALL_MGMDemo',\n",
    "       'ALL_MGMDeal', 'ALL_conUUCCNT', 'ALL_conSOUCNT', 'ALL_conSERCNT',\n",
    "       'ALL_conTWBCNT', 'ALL_conOTHCNT', 'ALL_conLigCNT', 'ALL_conMedCNT',\n",
    "       'ALL_conTanCNT', 'ALL_conDarCNT', 'ALL_conEx01CNT', 'ALL_conEx03CNT',\n",
    "       'ALL_conEx12CNT', 'ALL_conEx24CNT', 'ALL_conage30CNT',\n",
    "       'ALL_conage40CNT', 'ALL_conage50CNT', 'ALL_conage60CNT',\n",
    "       'ALL_conage61CNT', 'ALL_conMCNT', 'ALL_conFCNT', 'ALL_helpCNT',\n",
    "       'ALL_helpCNTmax', 'ALL_help3mCNT', 'ALL_help3mCNTmax', 'ALL_helpITCNT',\n",
    "       'ALL_helpITCNTmax', 'ALL_helpIT3mCNT', 'ALL_helpIT3mCNTmax',\n",
    "       'ALL_helpIiCNT', 'ALL_helpIiCNTmax', 'ALL_helpIi3mCNT',\n",
    "       'ALL_helpIi3mCNTmax', 'ALL_helpMaCNT', 'ALL_helpMaCNTmax',\n",
    "       'ALL_helpMa3mCNT', 'ALL_helpMa3mCNTmax', 'ALL_helpTeCNT',\n",
    "       'ALL_helpTeCNTmax', 'ALL_helpTe3mCNT', 'ALL_helpTe3mCNTmax',\n",
    "       'ALL_helpconCNT', 'ALL_helpconCNTmax', 'ALL_helpcon3mCNT',\n",
    "       'ALL_helpcon3mCNTmax','FDsellingdate',\n",
    "       'product_sdate', 'mb', 'mb_STV', 'mbdate', 'WarrantyPeriod', 'mbaCNT',\n",
    "       'mbadate_First', 'mbadate_New', 'MBA_technical', 'MBA_customer',\n",
    "       'MBA_Scheduling', 'MBA_Class', 'MBA_Service']]\n",
    "\n",
    "\n",
    "df_data['MBA_technical'] = df_data['MBA_technical'].fillna(0)\n",
    "df_data['MBA_customer'] = df_data['MBA_customer'].fillna(0)\n",
    "df_data['MBA_Scheduling'] = df_data['MBA_Scheduling'].fillna(0)\n",
    "df_data['MBA_Class'] = df_data['MBA_Class'].fillna(0)\n",
    "df_data['MBA_Service'] = df_data['MBA_Service'].fillna(0)\n",
    "df_data['MBA_total']=df_data['MBA_Class']+df_data['MBA_Scheduling']+df_data['MBA_Service']+df_data['MBA_customer']+df_data['MBA_technical']\n",
    "df_data['mbadate_First']=pd.to_datetime(df_data['mbadate_First']).dt.date\n",
    "df_data['mbadate_New']=pd.to_datetime(df_data['mbadate_New']).dt.date\n",
    "df_data['FDsellingdate']=pd.to_datetime(df_data['FDsellingdate']).dt.date\n",
    "df_data['mbdate']=pd.to_datetime(df_data['mbdate']).dt.date\n",
    "\n",
    "df_data['mbadiff'] = df_data['mbadate_New']-df_data['mbadate_First']\n",
    "df_data['mbtime'] = df_data['mbdate']-df_data['FDsellingdate']\n",
    "df_data['mbaFtoSelltime'] = df_data['mbadate_First']-df_data['FDsellingdate']\n",
    "df_data['mbaNtoSelltime'] = df_data['mbadate_New']-df_data['FDsellingdate']\n",
    "df_data['mbFdiff'] = df_data['mbdate']-df_data['mbadate_First']\n",
    "df_data['mbNdiff'] = df_data['mbdate']-df_data['mbadate_New']\n",
    "df_data = df_data.drop(['MBA_technical','MBA_customer','MBA_Scheduling','MBA_Class','MBA_Service'],axis=1)\n",
    "df_data = df_data.drop(['ALL_nconcompli','ALL_nmatcompli'],axis=1)\n",
    "df_data = df_data.drop(['mbadate_First','mbadate_New','FDsellingdate'],axis=1)\n",
    "df_data = df_data.drop(['WarrantyPeriod'],axis=1)\n",
    "df_data = df_data.drop(['product_sdate'],axis=1)\n",
    "\n",
    "df_data['mbadiff'] = (df_data['mbadiff'] / np.timedelta64(1, 'D')).astype(float)\n",
    "df_data['mbaFtoSelltime'] = (df_data['mbaFtoSelltime'] / np.timedelta64(1, 'D')).astype(float)\n",
    "df_data['mbaNtoSelltime'] = (df_data['mbaNtoSelltime'] / np.timedelta64(1, 'D')).astype(float)\n",
    "\n",
    "df_data['RH'] = df_data['RH'].fillna(0)\n",
    "df_data['AH'] = df_data['AH'].fillna(0)\n",
    "df_data['re'] = df_data['re'].fillna(0)\n",
    "df_data['fbCNT'] = df_data['fbCNT'].fillna(0)\n",
    "df_data['nCR'] = df_data['nCR'].fillna(0)\n",
    "df_data['nMR'] = df_data['nMR'].fillna(0)\n",
    "df_data['nTR'] = df_data['nTR'].fillna(0)\n",
    "#mean_nconcompla = df_data['nconcompla'].mean()\n",
    "#mean_nmatcompla = df_data['nmatcompla'].mean()\n",
    "#mean_nteccompla = df_data['nteccompla'].mean()\n",
    "df_data['nconcompla'] = df_data['nconcompla'].fillna(0)\n",
    "df_data['nmatcompla'] = df_data['nmatcompla'].fillna(0)\n",
    "df_data['nteccompla'] = df_data['nteccompla'].fillna(0)\n",
    "df_data['star'] = df_data['star'].fillna(1)\n",
    "df_data = df_data[df_data['star']<=5.0]\n",
    "df_data['ALL_star'] = df_data['ALL_star'].fillna(1)\n",
    "df_data = df_data[df_data['ALL_star']<=10.0]\n",
    "df_data['isIntCNT'] = df_data['isIntCNT'].fillna(0)\n",
    "df_data['ALL_RH'] = df_data['ALL_RH'].fillna(0)\n",
    "df_data['ALL_AH'] = df_data['ALL_AH'].fillna(0)\n",
    "df_data['ALL_re'] = df_data['ALL_re'].fillna(0)\n",
    "df_data['ALL_fbCNT'] = df_data['ALL_fbCNT'].fillna(0)\n",
    "df_data['ALL_nCR'] = df_data['ALL_nCR'].fillna(1)\n",
    "df_data['ALL_nMR'] = df_data['ALL_nMR'].fillna(1)\n",
    "df_data['ALL_nTR'] = df_data['ALL_nTR'].fillna(1)\n",
    "df_data['ALL_nconcompla'] = df_data['ALL_nconcompla'].fillna(1)\n",
    "df_data['ALL_nmatcompla'] = df_data['ALL_nmatcompla'].fillna(1)\n",
    "df_data['ALL_nteccompla'] = df_data['ALL_nteccompla'].fillna(1)\n",
    "df_data['ALL_isIntCNT'] = df_data['ALL_isIntCNT'].fillna(0)\n",
    "df_data['MGM_total'] = df_data['MGMLead']+df_data['MGMRes']+df_data['MGMDemo']+df_data['MGMDeal']\n",
    "df_data['ALL_MGM_total']= df_data['ALL_MGMLead']+df_data['ALL_MGMRes']+df_data['ALL_MGMDemo']+df_data['ALL_MGMDeal']\n",
    "df_data['Like_total'] = df_data['accLIKE']+df_data['proLIKE']\n",
    "df_data['ALL_Like_total'] = df_data['ALL_accLIKE']+df_data['ALL_proLIKE']\n",
    "df_data['DLike_total'] = df_data['accDLIKE']+df_data['proDLIKE']\n",
    "df_data['ALL_DLike_total'] = df_data['ALL_accDLIKE']+df_data['ALL_proDLIKE']\n",
    "df_data['help_total'] = df_data['helpITCNT']+df_data['helpIiCNT']+df_data['helpTeCNT']+df_data['helpMaCNT']+df_data['helpconCNT']\n",
    "df_data['ALL_help_total'] = df_data['ALL_helpITCNT']+df_data['ALL_helpIiCNT']+df_data['ALL_helpTeCNT']+df_data['ALL_helpMaCNT']+df_data['ALL_helpconCNT']\n",
    "df_data['help_max_total'] = df_data['helpITCNTmax']+df_data['helpIiCNTmax']+df_data['helpTeCNTmax']+df_data['helpMaCNTmax']+df_data['helpconCNTmax']\n",
    "df_data['ALL_help_max_total'] = df_data['ALL_helpITCNTmax']+df_data['ALL_helpIiCNTmax']+df_data['ALL_helpTeCNTmax']+df_data['ALL_helpMaCNTmax']+df_data['ALL_helpconCNTmax']\n",
    "df_data['3mhelp_max_total'] = df_data['helpIT3mCNTmax']+df_data['helpIi3mCNTmax']+df_data['helpTe3mCNTmax']+df_data['helpMa3mCNTmax']+df_data['helpcon3mCNTmax']\n",
    "df_data['ALL3m_help_max_total'] = df_data['ALL_helpIT3mCNTmax']+df_data['ALL_helpIi3mCNTmax']+df_data['ALL_helpTe3mCNTmax']+df_data['ALL_helpMa3mCNTmax']+df_data['ALL_helpcon3mCNTmax']\n",
    "\n",
    "df_data = df_data.fillna(0)\n",
    "df_data['DATE']=pd.to_datetime(df_data['DATE']).dt.date\n",
    "df_data = df_data[df_data['mbaFtoSelltime']>=0.0]\n",
    "df_data = df_data[df_data['mbaNtoSelltime']>=0.0]\n",
    "print(df_data.shape)\n",
    "\n",
    "\n",
    "df_ML = df_data[['DuringMBA', 'RH', 'AH', 're', 'fbCNT',\n",
    "       'nCR', 'nMR', 'nTR', 'nconcompla', 'nmatcompla','nteccompla', \n",
    "        'isIntCNT','ALL_RH', 'ALL_AH', 'ALL_re', 'ALL_fbCNT', 'ALL_nCR', 'ALL_nMR',\n",
    "       'ALL_nTR', 'ALL_nconcompla', 'ALL_nmatcompla', 'ALL_nteccompla',\n",
    "       'ALL_accLIKE', 'ALL_proLIKE', 'ALL_accDLIKE', 'ALL_proDLIKE',\n",
    "       'ALL_FavorCNT', 'ALL_BlockCNT', 'ALL_AddFavorCNT', 'ALL_AddBlockCNT',\n",
    "       'ALL_star', 'ALL_isIntCNT',\n",
    "       'ALL_conUUCCNT','ALL_conSOUCNT', 'ALL_conSERCNT', 'ALL_conTWBCNT', 'ALL_conOTHCNT',\n",
    "       'ALL_conLigCNT', 'ALL_conMedCNT', 'ALL_conTanCNT', 'ALL_conDarCNT',\n",
    "       'ALL_conEx01CNT', 'ALL_conEx03CNT', 'ALL_conEx12CNT', 'ALL_conEx24CNT',\n",
    "       'ALL_conage30CNT', 'ALL_conage40CNT', 'ALL_conage50CNT',\n",
    "       'ALL_conage60CNT', 'ALL_conage61CNT', 'ALL_conMCNT', 'ALL_conFCNT',\n",
    "       'ALL_helpCNT','ALL_help3mCNT',\n",
    "       'mb', 'mb_STV', 'mbaCNT',\n",
    "       'MBA_total', 'mbadiff','mbaFtoSelltime', 'mbaNtoSelltime',\n",
    "       'ALL_MGM_total','ALL_Like_total', 'ALL_DLike_total','ALL_help_total', 'ALL_help_max_total','ALL3m_help_max_total']]\n",
    "\n",
    "print(df_ML.shape)"
   ]
  },
  {
   "cell_type": "code",
   "execution_count": 6,
   "metadata": {},
   "outputs": [],
   "source": [
    "y = df_ML['mb']\n",
    "X = df_ML.drop(['mb'],axis=1)\n",
    "X_train,X_test,y_train,y_test = train_test_split(X,y,test_size = 0.2,random_state=40)\n",
    "te = TargetEncoder(cols=['DuringMBA', 'RH', 'AH', 're', 'fbCNT',\n",
    "       'nCR', 'nMR', 'nTR', 'nconcompla', 'nmatcompla','nteccompla', \n",
    "        'isIntCNT','ALL_RH', 'ALL_AH', 'ALL_re', 'ALL_fbCNT', 'ALL_nCR', 'ALL_nMR',\n",
    "       'ALL_nTR', 'ALL_nconcompla', 'ALL_nmatcompla', 'ALL_nteccompla',\n",
    "       'ALL_accLIKE', 'ALL_proLIKE', 'ALL_accDLIKE', 'ALL_proDLIKE',\n",
    "       'ALL_FavorCNT', 'ALL_BlockCNT', 'ALL_AddFavorCNT', 'ALL_AddBlockCNT',\n",
    "       'ALL_star', 'ALL_isIntCNT',\n",
    "       'ALL_conUUCCNT','ALL_conSOUCNT', 'ALL_conSERCNT', 'ALL_conTWBCNT', 'ALL_conOTHCNT',\n",
    "       'ALL_conLigCNT', 'ALL_conMedCNT', 'ALL_conTanCNT', 'ALL_conDarCNT',\n",
    "       'ALL_conEx01CNT', 'ALL_conEx03CNT', 'ALL_conEx12CNT', 'ALL_conEx24CNT',\n",
    "       'ALL_conage30CNT', 'ALL_conage40CNT', 'ALL_conage50CNT',\n",
    "       'ALL_conage60CNT', 'ALL_conage61CNT', 'ALL_conMCNT', 'ALL_conFCNT',\n",
    "       'ALL_helpCNT','ALL_help3mCNT',\n",
    "        'mb_STV', 'mbaCNT',\n",
    "       'MBA_total', 'mbadiff','mbaFtoSelltime', 'mbaNtoSelltime',\n",
    "       'ALL_MGM_total','ALL_Like_total', 'ALL_DLike_total','ALL_help_total', 'ALL_help_max_total','ALL3m_help_max_total']).fit(X,y)\n",
    "X_train_te = te.transform(X_train)\n",
    "X_test_te = te.transform(X_test)\n",
    "X_te = te.transform(X)\n",
    "\n",
    "\n",
    "# outlier data\n",
    "X_outliers = df_ML[df_ML['mb']==1]\n",
    "y_outliers = X_outliers['mb']\n",
    "X_outliers = X_outliers.drop(['mb'],axis=1)\n",
    "X_outliers_te = te.transform(X_outliers)"
   ]
  },
  {
   "cell_type": "code",
   "execution_count": 7,
   "metadata": {},
   "outputs": [
    {
     "data": {
      "text/plain": [
       "OneClassSVM(cache_size=200, coef0=0.0, degree=3, gamma=0.1, kernel='rbf',\n",
       "            max_iter=-1, nu=0.15, shrinking=True, tol=0.001, verbose=False)"
      ]
     },
     "execution_count": 7,
     "metadata": {},
     "output_type": "execute_result"
    }
   ],
   "source": [
    "ocs_1 = svm.OneClassSVM(nu=0.15, kernel='rbf', gamma=0.1)\n",
    "ocs_1.fit(X_train_te)"
   ]
  },
  {
   "cell_type": "code",
   "execution_count": 8,
   "metadata": {},
   "outputs": [],
   "source": [
    "y_pre = ocs_1.predict(X_te)\n",
    "y_train_pre = ocs_1.predict(X_train_te)\n",
    "y_test_pre = ocs_1.predict(X_test_te)\n",
    "y_out_pre = ocs_1.predict(X_outliers_te)"
   ]
  },
  {
   "cell_type": "code",
   "execution_count": 9,
   "metadata": {},
   "outputs": [],
   "source": [
    "y_train_ocs=y_train_pre\n",
    "y_train_ocs[y_train_pre==1]=0\n",
    "y_train_ocs[y_train_pre==-1]=1\n",
    "\n",
    "y_test_ocs=y_test_pre\n",
    "y_test_ocs[y_test_pre==1]=0\n",
    "y_test_ocs[y_test_pre==-1]=1\n",
    "\n",
    "y_outliers_ocs=y_out_pre\n",
    "y_outliers_ocs[y_out_pre==1]=0\n",
    "y_outliers_ocs[y_out_pre==-1]=1"
   ]
  },
  {
   "cell_type": "code",
   "execution_count": 10,
   "metadata": {},
   "outputs": [
    {
     "name": "stdout",
     "output_type": "stream",
     "text": [
      "f1 score of test data 0.4801739060424299\n",
      "AUC value of test data 0.7216586905245856\n",
      "f1 score of outliers data 0.7060454732389401\n"
     ]
    },
    {
     "data": {
      "text/plain": [
       "<Figure size 432x288 with 0 Axes>"
      ]
     },
     "metadata": {},
     "output_type": "display_data"
    },
    {
     "name": "stderr",
     "output_type": "stream",
     "text": [
      "findfont: Font family ['sans-serif'] not found. Falling back to DejaVu Sans.\n",
      "findfont: Font family ['sans-serif'] not found. Falling back to DejaVu Sans.\n"
     ]
    },
    {
     "data": {
      "image/png": "[encoded data removed]",
      "text/plain": [
       "<Figure size 720x720 with 1 Axes>"
      ]
     },
     "metadata": {},
     "output_type": "display_data"
    },
    {
     "name": "stderr",
     "output_type": "stream",
     "text": [
      "findfont: Font family ['sans-serif'] not found. Falling back to DejaVu Sans.\n"
     ]
    },
    {
     "data": {
      "image/png": "[encoded data removed]",
      "text/plain": [
       "<Figure size 432x288 with 2 Axes>"
      ]
     },
     "metadata": {},
     "output_type": "display_data"
    },
    {
     "name": "stdout",
     "output_type": "stream",
     "text": [
      "[[74158  7802]\n",
      " [ 5111  5964]]\n",
      "              precision    recall  f1-score   support\n",
      "\n",
      "           0       0.94      0.90      0.92     81960\n",
      "           1       0.43      0.54      0.48     11075\n",
      "\n",
      "    accuracy                           0.86     93035\n",
      "   macro avg       0.68      0.72      0.70     93035\n",
      "weighted avg       0.88      0.86      0.87     93035\n",
      "\n"
     ]
    }
   ],
   "source": [
    "print('f1 score of test data',f1_score(y_test,y_test_ocs))\n",
    "print('AUC value of test data',roc_auc_score(y_test,y_test_ocs))\n",
    "\n",
    "\n",
    "print('f1 score of outliers data',f1_score(y_outliers,y_outliers_ocs))\n",
    "\n",
    " ###計算真正率和假正率\n",
    "fpr,tpr,threshold = roc_curve(y_test, y_test_ocs) ###計算真正率和假正率\n",
    "###計算auc的值\n",
    "roc_auc = auc(fpr,tpr)\n",
    "plt.figure()\n",
    "lw = 2\n",
    "plt.figure(figsize=(10,10))\n",
    "plt.plot(fpr, tpr, color='darkorange',\n",
    " ###假正率為橫座標，真正率為縱座標做曲線\n",
    "lw=lw, label='ROC curve (area = %0.2f)' % roc_auc)\n",
    "plt.plot([0, 1], [0, 1], color='navy', lw=lw, linestyle='--')\n",
    "plt.xlim([0.0, 1.05])\n",
    "plt.ylim([0.0, 1.05])\n",
    "plt.xlabel('False Positive Rate')\n",
    "plt.ylabel('True Positive Rate')\n",
    "plt.title('Receiver operating characteristic example')\n",
    "plt.legend(loc=\"lower right\")\n",
    "plt.show()\n",
    "\n",
    "skplt.metrics.plot_confusion_matrix(y_test, y_test_ocs)\n",
    "plt.show()\n",
    "\n",
    "\n",
    "cf = confusion_matrix(y_test,y_test_ocs)\n",
    "print(cf)\n",
    "\n",
    "cr = classification_report(y_test,y_test_ocs)\n",
    "print(cr)"
   ]
  },
  {
   "cell_type": "code",
   "execution_count": 11,
   "metadata": {},
   "outputs": [
    {
     "data": {
      "text/plain": [
       "['D:/karma5.0/model_file/21to40/OCS_Second.pkl']"
      ]
     },
     "execution_count": 11,
     "metadata": {},
     "output_type": "execute_result"
    }
   ],
   "source": [
    "joblib.dump(ocs_1,'D:/karma5.0/model_file/21to40/OCS_Second.pkl')"
   ]
  }
 ],
 "metadata": {
  "kernelspec": {
   "display_name": "Python 3",
   "language": "python",
   "name": "python3"
  },
  "language_info": {
   "codemirror_mode": {
    "name": "ipython",
    "version": 3
   },
   "file_extension": ".py",
   "mimetype": "text/x-python",
   "name": "python",
   "nbconvert_exporter": "python",
   "pygments_lexer": "ipython3",
   "version": "3.7.4"
  }
 },
 "nbformat": 4,
 "nbformat_minor": 4
}
